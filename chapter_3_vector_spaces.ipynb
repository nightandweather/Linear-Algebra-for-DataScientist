{
 "cells": [
  {
   "cell_type": "markdown",
   "metadata": {},
   "source": [
    "Chapter 3 vector spaces"
   ]
  },
  {
   "cell_type": "markdown",
   "metadata": {},
   "source": [
    "물리적 힘이 가해지고 있는 물체를 생각해 보자, 이 물체의 운동을 변화시키기 위해서는 기존에 가해지는 크기의 힘을 변화시키거나 새로운 힘을 가해야한다 이 경우에는 물체에 원래 가해지던 힘에 새로 추가되는 힘이 동시에 작용하거나, 크기만 바뀐 힘이 작용한다. 두 힘이 동시에 작용하는 효과를 하나의 힘으로 나타내는 것이 힘의 덧셈이고, 힘의 크기만을 바구는 것은 힘을 상수배하는 것이다. 물체의 운동을 변화시키는 방법은 결국 이 두가지 방법을 잘 조합하여 반복하는 것이다. 이 간단한 예에 상수배가 가능한 대상들의 덧셈이 주어지는 벡터공간의 구조가 담겨있다. 사실 벡터공간에서 연사의 핵심은 상수배가 가능한 벡터로 불리는 벡터공간의 구조가 담겨있다. 사실 벡터공간에서 연산의 핵심은 상수배가 가능한 벡터로 불리는 대상들의 덧셈이 상수배와 조화를 이루게 하는 것이다. 이러한 벡터공간의 예는 2차원 점들로 이루어진 평면 같은 형태의 행렬을 모아놓은 집합\n"
   ]
  },
  {
   "cell_type": "markdown",
   "metadata": {},
   "source": [
    "#"
   ]
  },
  {
   "cell_type": "code",
   "execution_count": null,
   "metadata": {},
   "outputs": [],
   "source": []
  }
 ],
 "metadata": {
  "language_info": {
   "name": "python"
  }
 },
 "nbformat": 4,
 "nbformat_minor": 2
}
