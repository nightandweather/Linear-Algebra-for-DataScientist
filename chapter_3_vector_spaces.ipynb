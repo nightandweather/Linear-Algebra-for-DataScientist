{
 "cells": [
  {
   "cell_type": "markdown",
   "metadata": {},
   "source": [
    "Chapter 3 vector spaces"
   ]
  },
  {
   "cell_type": "markdown",
   "metadata": {},
   "source": [
    "## 3.1 Vector Spaces and Subspaces\n",
    "선형 연립 방정식 $Ax=b$ 의 해를 찾는 과정에서 필요한 여러 연산과 방정식에 연관된 homogeneous equation인 $Ax=b$의 해집합의 특성을 추상화하여 vector space와 vector operation을 정의한다. vector space를 채우는 vector로서 우리가 익숙한 $R^n$의 점을 떠올리겠지만, 같은 크기의 행렬들이나 동일한 정의구역 상에서 정의된 실수값을 갖는 함수들을 모아도 vector space가 되므로 vector space는 매우 일반적인 개념이다."
   ]
  },
  {
   "cell_type": "markdown",
   "metadata": {},
   "source": [
    "### 3.1.1 Operation in a vector space\n",
    "\n",
    "Vector space 의 기본적인 연산은 vector addition과 scalar multiplication 두가지 이다. 나머지 연산은 모두 이 두 가지 기본 연산에서 파생된다.\n",
    "\n",
    "> 1. Sclar multiplication : 상수배를 생각하려면 먼저 scalar를 알아야 한다. 본 강의록에서는 $R$과 $C$가 가능한데 주로 $R$을 scalar의 집합으로 생각하면 된다. Scalar c와 vector $v$에 대해서 상수배 $cv$역시 vector가 된다. Scalar 집합의 곱셈에 대한 항등원은 1로 표시하는데 임의의 vector $v$에 대해 $1v = v$가 성립하는 것으로 약속한다. 그리고 두 scalar를 상수배 할 때 일종의 결합법칙인 $(c_1*c_2)v = c_1(c_2*v)$이 성립한다고 약속한다\n",
    "\n",
    "> 2. Vector addition: 두 vector $v_1$과 $v_2$에 대해서 $v_1+v_2$는 벡터이다. 벡터의 덧셈은 교환법칙과 결합법칙이 성립한다. 덧셈의 항등원은 0으로 표시하는데 대부분의 vector space에서 직관적으로 파악할 수 있다. 예를 들면, zero vector, 영행렬, 0 값만을 취하는 상수함수 등이다. Scalar 집합의 덧셈에 대한 항등원을 0으로 표시하는데 임의의 vector v에 대해서 $0v=0$으로 약속하는 것이 자연스럽다.\n",
    "\n",
    "> 3. Two distribution interactions between vector addition and scalar multiplications : $c*(v_1+v_2) = c*v_1+c*v_2$, $(c_1+c_2)v = c_1*v+c_2*v$ 상수배와 vector addition의 분배 법칙이다. Vector 관련된 계산을 할 때, 우리가 매번 인지하지 않더라도 거의 모든 계산 단계에서 사용되고 있다. 예를 들면 임의의 $v$에 대해 $v-v=1v+(-1)v = (1-1)v= 0$이므로 -v가 v의 vector addition에 대한 역원이 된다. "
   ]
  },
  {
   "cell_type": "markdown",
   "metadata": {},
   "source": [
    "Vector space의 예로는 $\\mathbb{R}^n$, $\\mathbb{R}^\\infty$, $3 \\times 2$ matrices ≈ $\\mathbb{R}^6$, space of vector-valued functions들이 있다. 이 중에서 $\\mathbb{R}^n$이 표준적인 유한차원 vector space이다. 차원에 관한 이야기는 나중에 이루어진다. Vector space을 도입하면 바로 연결되는 이야기가 부분공간(subspace)에 관한 것이다. Vector space의 일부 벡터들이 자기들만으로도 vector space의 규칙을 충분히 지킬 수 있는 경우, 이 벡터들의 집합을 원래 vector space의 subspace라 부른다. 기존 벡터들로부터 새로운 벡터를 만들어 내는 vector addition과 scalar multiplication를 합하여 벡터들의 선형조합(linear combination of vectors)을 정의한다: vector $v_1, \\ldots, v_k$와 scalar $c_1, \\ldots, c_k$에 대해서 \n",
    "$c_1 v_1 + \\cdots + c_k v_k = \\sum_{i=1}^k c_i v_i$를 선형조합(linear combination)이라고 부른다.\n"
   ]
  },
  {
   "cell_type": "code",
   "execution_count": null,
   "metadata": {},
   "outputs": [],
   "source": [
    "import numpy as np\n",
    "\n",
    "def linear_combination(vectors, scalars):\n",
    "    \"\"\"\n",
    "    주어진 벡터들과 스칼라들을 사용하여 선형조합을 계산합니다.\n",
    "    \n",
    "    Parameters:\n",
    "    vectors (list of list of floats): 벡터들의 리스트\n",
    "    scalars (list of floats): 스칼라들의 리스트\n",
    "    \n",
    "    Returns:\n",
    "    list of floats: 선형조합 결과 벡터\n",
    "    \"\"\"\n",
    "    # 벡터와 스칼라의 길이가 같은지 확인\n",
    "    if len(vectors) != len(scalars):\n",
    "        raise ValueError(\"벡터의 수와 스칼라의 수가 일치하지 않습니다.\")\n",
    "    \n",
    "    # numpy 배열로 변환\n",
    "    vectors = np.array(vectors)\n",
    "    scalars = np.array(scalars)\n",
    "    \n",
    "    # 선형조합 계산\n",
    "    result = np.sum(scalars[:, np.newaxis] * vectors, axis=0)\n",
    "    \n",
    "    return result.tolist()\n",
    "\n",
    "# 예시 벡터들과 스칼라들\n",
    "vectors = [[1, 2, 3], [4, 5, 6], [7, 8, 9]]\n",
    "scalars = [0.5, 1.5, -1]\n",
    "\n",
    "# 선형조합 계산\n",
    "result = linear_combination(vectors, scalars)\n",
    "print(\"선형조합 결과:\", result)\n"
   ]
  },
  {
   "cell_type": "markdown",
   "metadata": {},
   "source": [
    "Vector space $V$의 공집합이 아닌 부분집합 $ W $가 subspace임을 보일 때 vector space의 모든 규칙을 확인하지 않고 vector addition과 scalar multiplication에 대해서 $ W $가 닫혀있는지만 확인하면 된다. 즉\n",
    "- $ W \\subset V $;\n",
    "- $ x, y \\in W \\Rightarrow x + y \\in W $;\n",
    "- $ c \\in \\mathbb{R}, x \\in W \\Rightarrow cx \\in W $\n",
    "\n",
    "만을 확인하면 된다.\n",
    "\n",
    "Vector space $ V $의 subspace로는 가장 간단한 $ \\{0\\} $으로부터 $ \\{cx : c \\in \\mathbb{R}\\} $ for some $ x \\in V $와 같은 1차원 subspace, 그리고 종종 필요한 $ \\{c_1 x_1 + \\cdots + c_n x_n : c_1, \\ldots, c_n \\in \\mathbb{R}\\} $ for some $ x_1, \\ldots, x_n \\in V $ 등이 있다. $ \\{(x, y) : x \\geq 0, y \\geq 0\\} $는 $ \\mathbb{R}^2 $의 subspace가 아니다. 행렬을 모아 놓은 vector space에서는 하삼각행렬을 모은 집합이나 대칭행렬로 구성된 집합들이 subspace이다.\n",
    "\n",
    "Vector의 상수배에 관해서 유용한 사실 한 가지를 추가하자. Scalar $ c $와 vector $ v \\in \\mathbb{R}^n $에 대해서 $ cv $와 $ vc $가 모두 의미있는 표현이다. $ cv $는 vector space에서 scalar multiplication의 표준적인 표현방식이다. $ vc $는 $ v $를 $ n \\times 1 $ 행렬로 보고 $ c $를 $ 1 \\times 1 $ 행렬로 보아 $ v[c] $로 해석할 수 있다. 종종 $ cv $ 표현에서는 파악하기 어렵지만 $ vc $ 방식의 표현에서는 상대적으로 쉽게 새로운 표현을 인지하는 경우가 있다. 예를 들면 다음과 같다. $ u, w \\in \\mathbb{R}^n $ 일 때\n",
    "\\[ (u^\\top v)w = w(u^\\top v) = (wu^\\top)v \\]\n",
    "에서 첫번째 항은 벡터 $ w $에 $ u^\\top v $를 상수배한 것이지만 마지막 항은 행렬 $ wu^\\top $와 벡터 $ v $의 곱으로 표현되어 있다. 어떤 행태로 기술하느냐가 새로운 발견에 영향을 줄 수 있다.\n",
    "\n",
    "그리고 다음과 같이 집합과 집합을 더하는 표기를 도입하면 편리하다\n",
    "\n",
    "- $ \\{0\\} $,\n",
    "- $ \\{cx : c \\in \\mathbb{R}\\} $,\n",
    "- $ \\{c_1 x_1 + \\cdots + c_n x_n : c_1, \\ldots, c_n \\in \\mathbb{R}\\} $,\n",
    "- $ \\{(x, y) : x \\geq 0, y \\geq 0\\} $ 등\n"
   ]
  },
  {
   "cell_type": "code",
   "execution_count": null,
   "metadata": {},
   "outputs": [],
   "source": [
    "def is_subspace(vector_space):\n",
    "    # 조건 1: 원소끼리의 합이 집합에 속하는지 확인\n",
    "    for i in range(len(vector_space)):\n",
    "        for j in range(i, len(vector_space)):\n",
    "            if vector_space[i][0] + vector_space[j][0] + vector_space[i][1] + vector_space[j][1] + vector_space[i][2] + vector_space[j][2] != 0:\n",
    "                return False\n",
    "    \n",
    "    # 조건 2: 원소에 스칼라를 곱한 결과가 집합에 속하는지 확인\n",
    "    for scalar in [2, -3, 0.5]:\n",
    "        for vector in vector_space:\n",
    "            if scalar * vector[0] + scalar * vector[1] + scalar * vector[2] != 0:\n",
    "                return False\n",
    "    \n",
    "    return True\n",
    "\n",
    "# 부분공간에 속하는지 확인할 집합\n",
    "subset = [(1, -2, 1), (3, 0, -3), (0, 1, -1)]\n",
    "\n",
    "if is_subspace(subset):\n",
    "    print(\"주어진 집합은 벡터 공간의 부분공간입니다.\")\n",
    "else:\n",
    "    print(\"주어진 집합은 벡터 공간의 부분공간이 아닙니다.\")\n"
   ]
  },
  {
   "cell_type": "markdown",
   "metadata": {},
   "source": [
    "이 정의에서 direct sum의 중요한 성질을 한가지 유추할 수 있다. $ U \\oplus W $의 어느 벡터가 $ u_1, u_2 \\in U $와 $ v_1, v_2 \\in W $에 대해서 $ u_1 + v_1 = u_2 + v_2 $로 표현된다면 $ u_1 - u_2 = v_2 - v_1 \\in U \\cap W $인데 Definition 3.3에 따라서 $ U \\cap W = \\{0\\} $이므로 $ u_1 = u_2 $이고 $ v_1 = v_2 $이다. 즉 $ U \\oplus W $의 벡터들은 $ U $와 $ W $의 성분들로 유일하게 표현된다는 것을 알 수 있다.\n",
    "\n",
    "Fact 3.1: A vector in a direct sum has a unique representation: For $ v \\in U \\oplus W $, there exists unique $ u \\in U $ and $ w \\in W $ such that $ v = u + w $.\n",
    "\n",
    "Fact 3.1에 의하면 부분공간 $ A, B $와 $ A \\oplus B $의 관계가 2차원 유클리드 공간과 그 공간을 구성하는 두 축의 관계와 비슷하다. 즉 $ \\mathbb{R}^2 = (\\mathbb{R} \\times \\{0\\}) \\oplus (\\{0\\} \\times \\mathbb{R}) $이다. 이 유사성을 염두에 두면 이후에 direct sum으로 표현되는 벡터 공간을 이해하기 용이하다.\n"
   ]
  },
  {
   "cell_type": "markdown",
   "metadata": {},
   "source": [
    "### 3.1.2 Two Fundamental Subspaces induced by Matrices\n",
    "\n",
    "m × n 행렬 A와 관련하여 쉽게 생각할 수 있는 $ \\mathbb{R}^m $과 $ \\mathbb{R}^n $의 subspace는 column space와 null space이다. 행렬 \\( A = [a_1 \\ldots a_n] \\), \\( a_i \\in \\mathbb{R}^m \\)를 생각하자.\n",
    "\n",
    "- The column space of A, \\( \\text{Col}(A) \\): the collection of linear combinations of columns of A. \\( \\text{Col}(A) = \\{v_1a_1 + \\ldots + v_na_n : v_1, \\ldots, v_n \\in \\mathbb{R}\\} = \\{Av : v \\in \\mathbb{R}^n\\} \\subset \\mathbb{R}^m \\).\n",
    "\n",
    "다음은 column space의 (간단한) 성질들로서 이유를 생각해보는 것이 좋은 공부이다.\n",
    "1. \\( Ax = b \\) is solvable if and only if \\( b \\in \\text{Col}(A) \\);\n",
    "2. \\( \\text{Col}(I_n) = \\mathbb{R}^n \\);\n",
    "3. If A is an n × n invertible matrix, then \\( \\text{Col}(A) = \\mathbb{R}^n \\).\n",
    "4. \\( \\text{Col}(A) \\) is a subspace of \\( \\mathbb{R}^m \\).\n",
    "\n",
    "- The null space of A, \\( \\text{Null}(A) \\): the collection of vectors being mapped to 0 via the matrix A. \\( \\text{Null}(A) = \\{x \\in \\mathbb{R}^n : Ax = 0\\} \\).\n",
    "\n",
    "\\( \\text{Null}(A) \\)는 kernel of A라고도 불린다. 다음은 null space의 (간단한) 성질들이다. 각자 이유를 생각해 보자.\n",
    "\n",
    "1. \\( \\text{Null}(A) = \\mathbb{R}^n \\) if and only if A = 0;\n",
    "2. \\( \\text{Null}(I_n) = \\{0\\} \\);\n",
    "3. If A is an n × n invertible matrix, then \\( \\text{Null}(A) = \\{0\\} \\).\n",
    "4. \\( \\text{Null}(A) \\) is a subspace of \\( \\mathbb{R}^n \\).\n",
    "\n",
    "한 행렬이 다른 행렬과 곱해지면 보통 column space가 작아지며 오른쪽에 곱해지는 행렬이 invertible한 경우에는 column space에 변화가 없다.\n"
   ]
  },
  {
   "cell_type": "markdown",
   "metadata": {},
   "source": [
    "Lemma 3.1 For any matrices A and B where the number of columns of A and the number of rows of B coincide, Col (AB) ⊂ Col (A). If B is invertible, then Col (AB) = Col (A)."
   ]
  },
  {
   "cell_type": "code",
   "execution_count": null,
   "metadata": {},
   "outputs": [],
   "source": [
    "import numpy as np\n",
    "\n",
    "def col_space(matrix):\n",
    "    # 행렬 A의 열 공간을 반환\n",
    "    return np.linalg.matrix_rank(matrix)\n",
    "\n",
    "def lemma_3_1(A, B):\n",
    "    # 행렬 A와 B의 열 공간 계산\n",
    "    col_A = col_space(A)\n",
    "    col_AB = col_space(np.dot(A, B))\n",
    "    \n",
    "    # Lemma 3.1 확인\n",
    "    if col_AB <= col_A:\n",
    "        return True\n",
    "    else:\n",
    "        return False\n",
    "\n",
    "# 예시 행렬 A와 B 생성\n",
    "A = np.array([[1, 2], [3, 4], [5, 6]])\n",
    "B = np.array([[1, 2, 3], [4, 5, 6]])\n",
    "\n",
    "# Lemma 3.1 확인\n",
    "result = lemma_3_1(A, B)\n",
    "print(result)\n"
   ]
  },
  {
   "cell_type": "markdown",
   "metadata": {},
   "source": [
    "다음 결과에서 null space가 선형연립방정식의 해를 모아 놓은 집합의 구조를 결정하는 중요한 역할을 한다는 것을 알 수 있다. 즉 선형연립방정식의 해집합은 null space를 평행이동하면 얻을 수 있다.\n"
   ]
  },
  {
   "cell_type": "markdown",
   "metadata": {},
   "source": [
    "Fact 3.2, 가정: $ Ax^\\star = b $ 일 때, $ \\{ x : Ax = b \\} = \\{ x^\\star + y : y \\in \\text{Null}(A) \\} = x^\\star + \\text{Null}(A) $\n"
   ]
  },
  {
   "cell_type": "code",
   "execution_count": null,
   "metadata": {},
   "outputs": [],
   "source": [
    "import numpy as np\n",
    "\n",
    "def null_space(matrix):\n",
    "    # Null space를 반환\n",
    "    _, _, vh = np.linalg.svd(matrix)\n",
    "    null_space = vh[-1, :]\n",
    "    return null_space\n",
    "\n",
    "def fact_3_2(A, x_star):\n",
    "    # Ax^* = b 생성\n",
    "    b = np.dot(A, x_star)\n",
    "    \n",
    "    # Ax = b를 만족하는 x 찾기\n",
    "    x = np.linalg.lstsq(A, b, rcond=None)[0]\n",
    "    \n",
    "    # x^* + Null(A) 계산\n",
    "    null_A = null_space(A)\n",
    "    x_plus_null_A = np.array([x_star + y for y in null_A.T])\n",
    "    \n",
    "    # Ax = b를 만족하는 x와 x^* + Null(A)의 원소들의 합집합이 같은지 확인\n",
    "    if set(map(tuple, x_plus_null_A)) == set(map(tuple, [x])):\n",
    "        return True\n",
    "    else:\n",
    "        return False\n",
    "\n",
    "# 예시 행렬 A와 벡터 x^* 생성\n",
    "A = np.array([[1, 2], [3, 4], [5, 6]])\n",
    "x_star = np.array([1, 1])\n",
    "\n",
    "# Fact 3.2 확인\n",
    "result = fact_3_2(A, x_star)\n",
    "print(result)\n"
   ]
  },
  {
   "cell_type": "markdown",
   "metadata": {},
   "source": [
    "### 3.2 Solving $ Ax = 0 $ and $ Ax = b $\n",
    "\n",
    "2.6절에서 살펴본 선형 연립 방정식의 풀이 과정을 다시 생각해보자. 선형 연립 방정식 $ Ax = b $는 계수 행렬 A의 열 벡터들이 독립적일수록 더 많은 우변 상수 b에 대해 해를 갖는다. 열 벡터들의 독립성이 최고인 경우로 생각할 수 있는 invertible한 A의 경우에는 어떠한 b에 대해서도 $ x = A^{-1}b $가 $ Ax = b $의 해가 된다. 이 경우에 비해 열 벡터들의 독립성이 낮은 경우에 해당하는 $ 0 \\neq y \\in \\text{Null}(A) $가 존재하여 열 벡터 간에 $ Ay = y_1a_1 + \\ldots + y_nan = 0 $이라는 관계가 존재하는 경우에는 b에 따라서 $ Ax = b $의 해가 존재하지 않거나 존재하더라도 Fact 3.2에 의해 무한히 많은 해가 존재한다. 일반적으로 column space가 우변 상수 벡터들의 공간인 $ \\mathbb{R}^m $보다 작으면(즉 $ \\text{Col}(A) \\neq \\mathbb{R}^m $이면) $ b \\in \\text{Col}(A) $인 b에 대해서만 해가 존재한다.\n",
    "\n",
    "연립 방정식 $ Ax = b $을 푸는 과정은 방정식들을 상수배하여 다른 방정식에 더하는 과정을 반복하되 0으로 변하는 미지수의 계수들이 많아지도록 만드는 소거 작업을 수행하는 것이다. 이 때 0이 되는 계수의 위치를 가능한 왼쪽 위부터 정하는 방법이 Gaussian elimination이다. 일단 어떤 계수가 0이 되면 그 계수 아래의 모든 계수를 0으로 만드는데 이런 과정을 마치면 0인 계수의 모습이 좌측에서 우측으로 내려가는 계단의 모습을 연상시켜 이렇게 소거된 계수 행렬을 row echelon form이라고 부른다.\n"
   ]
  },
  {
   "cell_type": "markdown",
   "metadata": {},
   "source": [
    "행렬 A는 다음과 같을 때 row echolon form은\n",
    "\n",
    "$$\n",
    "A = \\begin{bmatrix}\n",
    "1 & 3 & 3 & 2 \\\\\n",
    "2 & 6 & 9 & 7 \\\\\n",
    "-1 & -3 & 3 & 4 \\\\\n",
    "\\end{bmatrix}\n",
    "$$\n",
    "\n",
    "1단계: 행 2에 행 1의 -2배를 더하여 0으로 만듭니다.\n",
    "\n",
    "$$\n",
    "\\begin{align*}\n",
    "&\\begin{bmatrix}\n",
    "1 & 3 & 3 & 2 \\\\\n",
    "0 & 0 & 3 & 3 \\\\\n",
    "-1 & -3 & 3 & 4 \\\\\n",
    "\\end{bmatrix}\n",
    "\\end{align*}\n",
    "$$\n",
    "\n",
    "2단계: 행 3에 행 1을 더하여 0으로 만듭니다.\n",
    "\n",
    "$$\n",
    "\\begin{align*}\n",
    "&\\begin{bmatrix}\n",
    "1 & 3 & 3 & 2 \\\\\n",
    "0 & 0 & 3 & 3 \\\\\n",
    "0 & 0 & 6 & 6 \\\\\n",
    "\\end{bmatrix}\n",
    "\\end{align*}\n",
    "$$\n",
    "\n",
    "3단계: 행 3에 행 2의 -2배를 더하여 0으로 만듭니다.\n",
    "\n",
    "$$\n",
    "\\begin{align*}\n",
    "&\\begin{bmatrix}\n",
    "1 & 3 & 3 & 2 \\\\\n",
    "0 & 0 & 3 & 3 \\\\\n",
    "0 & 0 & 0 & 0 \\\\\n",
    "\\end{bmatrix}\n",
    "\\end{align*}\n",
    "$$\n",
    "\n",
    "이렇게 변환된 행렬이 row echelon form U입니다.\n"
   ]
  },
  {
   "cell_type": "markdown",
   "metadata": {},
   "source": [
    "Gaussian elimination을 수행하는 과정에서 행을 교환할 필요가 있는 경우 가능한 위쪽의 행과 교환하는 규칙을 적용하면 row echelon form은 유일하다. 별도로 엄밀하게 증명하지 않더라도 반복된 예제로부터 다음 결과를 받아들일 수 있을것이다."
   ]
  },
  {
   "cell_type": "markdown",
   "metadata": {},
   "source": [
    "주어진 행렬의 reduced row echelon form을 구하기 위해 다음과 같은 과정을 거친다\n",
    "\n",
    "1. Pivot 열을 정합니다. Pivot은 열의 첫 번째 0이 아닌 원소입니다. 따라서 이 행렬의 pivot 열은 세 번째 열입니다.\n",
    "\n",
    "2. Pivot 원소를 1로 만들기 위해 해당 열의 모든 원소를 pivot 원소로 나눕니다.\n",
    "\n",
    "$$\n",
    "\\begin{align*}\n",
    "&\\begin{bmatrix}\n",
    "1 & 3 & 3 & 2 \\\\\n",
    "0 & 0 & 1 & 1 \\\\\n",
    "0 & 0 & 0 & 0 \\\\\n",
    "\\end{bmatrix}\n",
    "\\end{align*}\n",
    "$$\n",
    "\n",
    "3. Pivot 열 아래에 있는 모든 원소를 0으로 만듭니다. 이를 위해 pivot 열 아래의 각 행에 대해 다음과 같은 작업을 수행합니다.\n",
    "   - 해당 행의 pivot 열의 원소를 0으로 만들기 위해 pivot 열의 해당 행에 대한 원소에 pivot 열의 상수 배를 더합니다.\n",
    "\n",
    "$$\n",
    "\\begin{align*}\n",
    "&\\begin{bmatrix}\n",
    "1 & 3 & 3 & 2 \\\\\n",
    "0 & 0 & 1 & 1 \\\\\n",
    "0 & 0 & 0 & 0 \\\\\n",
    "\\end{bmatrix}\n",
    "\\end{align*}\n",
    "$$\n",
    "\n",
    "위의 과정을 거친 결과로써 주어진 행렬의 reduced row echelon form을 얻을 수 있습니다.\n"
   ]
  },
  {
   "cell_type": "markdown",
   "metadata": {},
   "source": [
    "### 3.2.2 Pivot Variables and Free Variables\n",
    "\n",
    "Reduced row echelon form $ R $에 대해, 행렬 $ R $에서 pivot이 들어있는 열에 대응되는 변수를 pivot variable이라고 부르고, 나머지 변수를 free variable이라고 부릅니다. \n",
    "\n",
    "$ Rx = 0 $의 해를 찾는 방법은 다양하지만, 체계적인 한 가지 방법은 free variable에 (이름 그대로) 임의의 값을 할당한 후에 pivot variable의 값을 정하는 방법입니다.\n",
    "\n",
    "예를 들어, 이전의 예시에서 다음과 같이 나타낼 수 있습니다.\n",
    "\n",
    "$$\n",
    "\\begin{align*}\n",
    "&\\begin{bmatrix}\n",
    "1 & 3 & 0 & -1 & u & 0 \\\\\n",
    "0 & 0 & 1 & 1 & v & 0 \\\\\n",
    "0 & 0 & 0 & 0 & w & 0 \\\\\n",
    "\\end{bmatrix}\n",
    "\\end{align*}\n",
    "$$\n",
    "\n",
    "여기서 변수 $ u $와 $ v $는 pivot variable이고, 변수 $ w $와 $ y $는 free variable입니다.\n",
    "\n",
    "pivot variable을 free variable에 종속적인 형태로 표현하면 다음과 같은 관계를 얻습니다.\n",
    "\n",
    "$$\n",
    "n u = -3v + y\n",
    "$$\n",
    "\n",
    "따라서 $ w = -y $입니다.\n",
    "\n",
    "Free variable $ v $와 $ y $에 임의의 값을 할당하면 pivot variable $ u $, $ w $가 결정됩니다. 아직 차원을 정확하게 정의하지는 않았지만, 3개의 free variable의 개수가 $ Rx = 0 $의 해집합의 차원일 것이라는 것을 추측할 수 있습니다.\n"
   ]
  },
  {
   "cell_type": "code",
   "execution_count": null,
   "metadata": {},
   "outputs": [],
   "source": []
  },
  {
   "cell_type": "code",
   "execution_count": null,
   "metadata": {},
   "outputs": [],
   "source": []
  }
 ],
 "metadata": {
  "language_info": {
   "name": "python"
  }
 },
 "nbformat": 4,
 "nbformat_minor": 2
}
