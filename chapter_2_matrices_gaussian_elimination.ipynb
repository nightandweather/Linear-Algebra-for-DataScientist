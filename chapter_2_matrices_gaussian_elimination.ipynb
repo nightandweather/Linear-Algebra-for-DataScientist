{
 "cells": [
  {
   "cell_type": "markdown",
   "metadata": {},
   "source": [
    "# Chapter 2\n",
    "## Matrices and Gaussian Elimination\n",
    "선형 연립방정식을 푼다는 것은 각각의 일차방정식을 동시에 만족하는 변수들의 값을 정하는 것이다. 이 풀이 과정을 체계화 한것이 Gaussian Elimination으로 두번째 일차식에서 변수 한개를 소거하고 세번째 일차식에서는 두번째 식에서 소거된 변수 외에 또 다른 변수까지 두 변수를 소거하는 방식으로 진행하여 마지막 식에서는 변수가 한 개만 남도록 만든다. 그러면 마지막식에서 포함된 변수의 값을 읽어낼 수 있고, 직전 식에 해당 변수값을 대입하면 또 다른 변수의 값이 정해지는 방식으로 모든 변수의 값을 정할 수 있다."
   ]
  },
  {
   "cell_type": "markdown",
   "metadata": {},
   "source": [
    "## 2.1 Matrix Operations\n",
    "행렬과 벡터의 곱에서 행렬간의 곱셈으로 확장한다면, 크기가 $n \\times l$ 인 $A = [b_1|b_2|...|b_l] = (b_{jk})$ 가 주어졌다고 하면, \n",
    "$k$ 번째 열 $b_k$ 와 $A$의 곱은 $Ab_k = b_{1k}a_1 + b_{2k}a_2 + ... + b_{nk}a_n$ 이다.\n"
   ]
  },
  {
   "cell_type": "markdown",
   "metadata": {},
   "source": [
    "두 행별의 $A$와 $B$의 곱 $AB$는 다음과 같이 정의된다:\n",
    "\n",
    "\n",
    "$$AB = [Ab_1|Ab_2|...|Ab_l]$$\n",
    "\n",
    "\n",
    "여기서 각 열 $Ab_k$는 다음과 같이 계산된다:\n"
   ]
  },
  {
   "cell_type": "markdown",
   "metadata": {},
   "source": [
    "$$Ab_k = A \\cdot b_k = b_{1k}a_1 + b_{2k}a_2 + ... + b_{nk}a_n$$\n"
   ]
  },
  {
   "cell_type": "markdown",
   "metadata": {},
   "source": [
    "첫번째 행렬과 두번째 행렬의 열이 곱해지므로 첫번째 행렬의 열의 개수와 두번째 행렬의 행의 개수가 일치해야한다"
   ]
  },
  {
   "cell_type": "markdown",
   "metadata": {},
   "source": [
    "행렬간의 곱은 결합법칙 $(AB)C = A(BC)$가 성립하고, 행렬간의 덧셈과 곱셈은 분배법칙 $A(B+C) = AB+AC$, $(B+C)D = BD+CD$가 성립한다.\n"
   ]
  },
  {
   "cell_type": "code",
   "execution_count": null,
   "metadata": {},
   "outputs": [],
   "source": [
    "import numpy as np\n",
    "\n",
    "# 행렬 정의\n",
    "A = np.array([[1, 2],\n",
    "              [3, 4]])\n",
    "\n",
    "B = np.array([[5, 6],\n",
    "              [7, 8]])\n",
    "\n",
    "C = np.array([[9, 10],\n",
    "              [11, 12]])\n",
    "\n",
    "# 결합법칙 (AB)C = A(BC)\n",
    "print(\"AB:\")\n",
    "print(np.dot(A, B))\n",
    "AB = np.dot(A, B)\n",
    "\n",
    "print(\"\\nABC:\")\n",
    "ABC = np.dot(AB, C)\n",
    "for i in range(ABC.shape[0]):\n",
    "    for j in range(ABC.shape[1]):\n",
    "        print(f\"ABC[{i},{j}] =\", end=\" \")\n",
    "        for k in range(B.shape[0]):\n",
    "            print(f\"({AB[i,k]}*{C[k,j]})\", end=\" + \" if k < B.shape[0] - 1 else \"\",)\n",
    "        print(f\"= {ABC[i,j]}\")\n",
    "\n",
    "print(\"\\nA(BC):\")\n",
    "BC = np.dot(B, C)\n",
    "ABC = np.dot(A, BC)\n",
    "for i in range(ABC.shape[0]):\n",
    "    for j in range(ABC.shape[1]):\n",
    "        print(f\"A(BC)[{i},{j}] =\", end=\" \")\n",
    "        for k in range(BC.shape[0]):\n",
    "            print(f\"({A[i,k]}*{BC[k,j]})\", end=\" + \" if k < BC.shape[0] - 1 else \"\",)\n",
    "        print(f\"= {ABC[i,j]}\")\n",
    "\n",
    "# 분배법칙 A(B+C) = AB+AC\n",
    "print(\"\\n(B+C):\")\n",
    "BC = B + C\n",
    "print(BC)\n",
    "\n",
    "print(\"\\nA(B+C):\")\n",
    "ABC = np.dot(A, BC)\n",
    "for i in range(ABC.shape[0]):\n",
    "    for j in range(ABC.shape[1]):\n",
    "        print(f\"A(B+C)[{i},{j}] =\", end=\" \")\n",
    "        for k in range(BC.shape[0]):\n",
    "            print(f\"({A[i,k]}*{BC[k,j]})\", end=\" + \" if k < BC.shape[0] - 1 else \"\",)\n",
    "        print(f\"= {ABC[i,j]}\")\n",
    "\n",
    "print(\"\\nAB + AC:\")\n",
    "AB = np.dot(A, B)\n",
    "AC = np.dot(A, C)\n",
    "print(AB + AC)\n"
   ]
  },
  {
   "cell_type": "markdown",
   "metadata": {},
   "source": [
    "그러나 행렬간의 곱셈은 실수의 곱셈과 다르게 교환법칙이 성립하지 않는다. "
   ]
  },
  {
   "cell_type": "code",
   "execution_count": null,
   "metadata": {},
   "outputs": [],
   "source": [
    "import numpy as np\n",
    "\n",
    "# 행렬 정의\n",
    "A = np.array([[1, 2],\n",
    "              [3, 4]])\n",
    "\n",
    "B = np.array([[5, 6],\n",
    "              [7, 8]])\n",
    "\n",
    "# AB 계산\n",
    "AB = np.dot(A, B)\n",
    "print(\"AB:\")\n",
    "print(AB)\n",
    "\n",
    "# BA 계산\n",
    "BA = np.dot(B, A)\n",
    "print(\"\\nBA:\")\n",
    "print(BA)\n",
    "\n",
    "# AB와 BA 비교\n",
    "print(\"\\nAB == BA:\", np.array_equal(AB, BA))\n",
    "\n",
    "# 각 단계에서의 연산 과정 출력\n",
    "print(\"\\nAB:\")\n",
    "for i in range(AB.shape[0]):\n",
    "    for j in range(AB.shape[1]):\n",
    "        print(f\"AB[{i},{j}] =\", end=\" \")\n",
    "        for k in range(B.shape[0]):\n",
    "            print(f\"({A[i,k]}*{B[k,j]})\", end=\" + \" if k < B.shape[0] - 1 else \"\",)\n",
    "        print(f\"= {AB[i,j]}\")\n",
    "\n",
    "print(\"\\nBA:\")\n",
    "for i in range(BA.shape[0]):\n",
    "    for j in range(BA.shape[1]):\n",
    "        print(f\"BA[{i},{j}] =\", end=\" \")\n",
    "        for k in range(A.shape[0]):\n",
    "            print(f\"({B[i,k]}*{A[k,j]})\", end=\" + \" if k < A.shape[0] - 1 else \"\",)\n",
    "        print(f\"= {BA[i,j]}\")\n"
   ]
  },
  {
   "cell_type": "markdown",
   "metadata": {},
   "source": [
    "행렬 덧셈의 항등원은 모든 원소가 0인 영행렬이고(matrix of zeros) 이며, 0으로 표시합니다. 다양한 크기의 영행렬은 0으로 표시하지만 대부분의 경우에 혼동되지 않습니다. 영행렬의 크기를 특별히 표시할 필요가 있는 경우에는 $m \\times n$ 영행렬을 $0_{m,n}$으로 표시하기도 합니다.\n",
    "\n",
    "행렬 곱셈의 항등원은 행번호와 열번호가 같은 대각원소들이 1이고, 나머지 비대각원소들은 0인 정사각행렬로서 항등행렬(identity matrix)이라고 부릅니다.\n"
   ]
  },
  {
   "cell_type": "markdown",
   "metadata": {},
   "source": [
    "$$I = I_n = \\begin{bmatrix}\n",
    "1 & 0 & \\cdots & 0 \\\\\n",
    "0 & 1 & \\cdots & 0 \\\\\n",
    "\\vdots & \\vdots & \\ddots & \\vdots \\\\\n",
    "0 & 0 & \\cdots & 1 \\\\\n",
    "\\end{bmatrix}$$\n"
   ]
  },
  {
   "cell_type": "markdown",
   "metadata": {},
   "source": [
    "대각행렬은 비대각원소가 모두 0인 행렬로, 대각원소들이 주 대각선 상에 위치합니다. 대각행렬을 $D$라고 표현하고, 만약 $i$번째 대각원소가 $d_i$이라면, 대각행렬 $D$는 다음과 같이 표현됩니다:\n",
    "\n",
    "$$D = \\begin{bmatrix} d_1 & 0 & \\cdots & 0 \\\\ 0 & d_2 & \\cdots & 0 \\\\ \\vdots & \\vdots & \\ddots & \\vdots \\\\ 0 & 0 & \\cdots & d_n \\\\ \\end{bmatrix} = diag(d_i) = diag(d_1,...,d_n)$$\n",
    "\n",
    "여기서 $ n $은 행렬의 차원을 나타내며, $ d_i $는 $ D $의 $ i $번째 대각원소입니다.\n"
   ]
  },
  {
   "cell_type": "markdown",
   "metadata": {},
   "source": [
    "대각행렬은 다른 행렬의 왼쪽 또는 오른쪽에 곱해지면서 scaling이라 부르는 행 또는 열에 대한 상수배 작용을 합니다. 즉, 어떤 행렬 $A$에 대해서 $AD$는 $A$의 $j$번째 열 벡터에 $d_j$를 상수배 한 것이며, $AD$는 $A$의 각 열을 $d_j$로 scaling한 행렬이 됩니다. 마찬가지로 $DA$는 $i$번째 행을 $d_i$값으로 scaling한 행렬이 됩니다.\n"
   ]
  },
  {
   "cell_type": "markdown",
   "metadata": {},
   "source": [
    "행렬을 다룰때 행렬의 변형 한가지가 행렬의 전치(transpose)이다."
   ]
  },
  {
   "cell_type": "markdown",
   "metadata": {},
   "source": [
    "주어진 예제에서 행렬 $A$는 다음과 같습니다:\n",
    "\n",
    "$$\n",
    "A = \\begin{bmatrix} 2 & 1 & 4 \\\\ 0 & 0 & 3 \\end{bmatrix}\n",
    "$$\n",
    "\n",
    "이 행렬의 전치는 행과 열을 바꾸는 것입니다. 즉, 첫 번째 행은 첫 번째 열로, 두 번째 행은 두 번째 열로 옮기는 것입니다.\n",
    "\n",
    "전치된 행렬은 다음과 같습니다:\n",
    "\n",
    "$$\n",
    "A^T = \\begin{bmatrix} 2 & 0 \\\\ 1 & 0 \\\\ 4 & 3 \\end{bmatrix}\n",
    "$$\n",
    "\n",
    "따라서 주어진 예제에서 행렬 $A$의 전치는 주어진 예와 같습니다:\n",
    "\n",
    "$$\n",
    "\\begin{bmatrix} 2 & 1 & 4 \\\\ 0 & 0 & 3 \\end{bmatrix}^T = \\begin{bmatrix} 2 & 0 \\\\ 1 & 0 \\\\ 4 & 3 \\end{bmatrix}\n",
    "$$\n"
   ]
  },
  {
   "cell_type": "markdown",
   "metadata": {},
   "source": [
    "이때 행렬의 전치를 벡터의 전치로 확장해보면, $a_i$가 $i$번째 원소인 $\\mathbb{R}^n$ 벡터 $a$는 $n \\times 1$ 행렬로 생각할 수 있으므로 $a^T$는 $[a_1, a_2, ..., a_n]$과 같이 $1 \\times n$ 행렬로 정의할 수 있습니다. 이 개념을 $m \\times n$ 행렬 $A$와 $\\mathbb{R}^n$ 벡터 $v$의 곱에 행렬 $A$가 $1 \\times n$ 행렬 $A = a^T$인 경우에 적용해보면. 그러면 $Av = a^Tv$인데 곱은 $1 \\times 1$ 행렬, 즉 실수이므로 행렬 표시를 하지 않고 간단히 실수로 나타낼 수 있습니다.\n"
   ]
  },
  {
   "cell_type": "markdown",
   "metadata": {},
   "source": [
    "$$a^T v = \\sum_{i=1}^{n} a_i v_i$$\n"
   ]
  },
  {
   "cell_type": "markdown",
   "metadata": {},
   "source": [
    "이를 $\\mathbb{R}^n$ 벡터 $a$와 $v$의 표준 내적(inner product)이라고 부르는데, 나중에 벡터 공간에서 내적을 도입할 때 자세하게 공부하게 됩니다. 벡터 간의 내적을 도입하면 여러 행을 가진 행렬과 벡터가 곱해진 벡터는 각각의 행과 벡터의 곱을 내적으로 생각할 수 있습니다.\n"
   ]
  },
  {
   "cell_type": "markdown",
   "metadata": {},
   "source": [
    "행렬의 transpose를 알고 나면 transpose에 의해 변하지 않는 행렬은 어떤 성질을 가지고 있을까 생각이 드는데 이를 대칭행렬이라고한다. \n",
    "\n",
    "대칭행렬의 간단한 성질 몇가지는 다음과 같다.\n",
    "\n",
    "1. 대칭행렬은 정방행렬(square matrix)이다.\n",
    "2. 대각행렬(diagonal matrix)은 모두 대칭행렬이다.\n",
    "3. 임의의 행렬 $A$에 대해서, $A^T A$와 $AA^T$는 모두 대칭행렬이다.\n",
    "4. $D$가 대각행렬이고 $A$가 임의의 행렬일 때, $ADA^T$와 $A^TDA$는 모두 대칭행렬이다.\n"
   ]
  },
  {
   "cell_type": "code",
   "execution_count": null,
   "metadata": {},
   "outputs": [],
   "source": []
  },
  {
   "cell_type": "code",
   "execution_count": null,
   "metadata": {},
   "outputs": [],
   "source": []
  }
 ],
 "metadata": {
  "language_info": {
   "name": "python"
  }
 },
 "nbformat": 4,
 "nbformat_minor": 2
}
